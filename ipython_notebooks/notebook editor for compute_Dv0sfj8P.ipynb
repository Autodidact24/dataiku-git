{
  "metadata": {
    "kernelspec": {
      "name": "py-dku-venv-fastenv",
      "display_name": "Python (env fastenv)",
      "language": "python"
    },
    "associatedRecipe": "compute_Dv0sfj8P",
    "creator": "admin",
    "createdOn": 1665232291945,
    "tags": [
      "recipe-editor"
    ],
    "customFields": {},
    "hide_input": false,
    "language_info": {
      "name": "python",
      "version": "3.9.6",
      "mimetype": "text/x-python",
      "codemirror_mode": {
        "name": "ipython",
        "version": 3
      },
      "pygments_lexer": "ipython3",
      "nbconvert_exporter": "python",
      "file_extension": ".py"
    },
    "modifiedBy": "admin"
  },
  "nbformat": 4,
  "nbformat_minor": 1,
  "cells": [
    {
      "execution_count": 3,
      "cell_type": "code",
      "metadata": {},
      "source": [
        "# -*- coding: utf-8 -*-\nimport dataiku\nimport pandas as pd, numpy as np\nfrom dataiku import pandasutils as pdu\nfrom fastdownload import download_url\nfrom fastcore.all import *\nfrom time import sleep\n\n# Read recipe inputs\nclean_air_or_not \u003d dataiku.Folder(\"TPQ6w2ke\")\nclean_air_or_not_info \u003d clean_air_or_not.get_info()\n\nfrom duckduckgo_search import ddg_images\nfrom fastcore.all import *\nfrom fastai.vision.all import *\n\ndef search_images(term, max_images\u003d200): return L(ddg_images(term, max_results\u003dmax_images)).itemgot(\u0027image\u0027)\n\nsearches \u003d \u0027clean air skyline\u0027, \u0027polluted air skyline\u0027\npath \u003d dataiku.Folder(\"Dv0sfj8P\"), dataiku.Folder(\"rZHKyy2U\")\n\n\nfor o, p in zip(searches, path):\n    dest \u003d (p.get_path()/o)\n    print(dest)\n    dest.mkdir(exist_ok\u003dTrue, parents\u003dTrue)\n    download_images(dest, urls\u003dsearch_images(f\u0027{o} photo\u0027))\n    sleep(10)  # Pause between searches to avoid over-loading server\n    download_images(dest, urls\u003dsearch_images(f\u0027{o} aqi\u0027))\n    sleep(10)\n    download_images(dest, urls\u003dsearch_images(f\u0027{o} buildings\u0027))\n    sleep(10)\n    resize_images(path/o, max_size\u003d400, dest\u003dpath/o)\n\n# Write recipe outputs\nclean_air \u003d dataiku.Folder(\"Dv0sfj8P\")\nclean_air_info \u003d clean_air.get_info()\npolluted_air \u003d dataiku.Folder(\"rZHKyy2U\")\npolluted_air_info \u003d polluted_air.get_info()"
      ],
      "outputs": [
        {
          "output_type": "error",
          "ename": "TypeError",
          "evalue": "unsupported operand type(s) for /: \u0027str\u0027 and \u0027str\u0027",
          "traceback": [
            "\u001b[0;31m---------------------------------------------------------------------------\u001b[0m",
            "\u001b[0;31mTypeError\u001b[0m                                 Traceback (most recent call last)",
            "\u001b[0;32m\u003cipython-input-3-3e13b60d261c\u003e\u001b[0m in \u001b[0;36m\u003ccell line: 23\u003e\u001b[0;34m()\u001b[0m\n\u001b[1;32m     22\u001b[0m \u001b[0;34m\u001b[0m\u001b[0m\n\u001b[1;32m     23\u001b[0m \u001b[0;32mfor\u001b[0m \u001b[0mo\u001b[0m\u001b[0;34m,\u001b[0m \u001b[0mp\u001b[0m \u001b[0;32min\u001b[0m \u001b[0mzip\u001b[0m\u001b[0;34m(\u001b[0m\u001b[0msearches\u001b[0m\u001b[0;34m,\u001b[0m \u001b[0mpath\u001b[0m\u001b[0;34m)\u001b[0m\u001b[0;34m:\u001b[0m\u001b[0;34m\u001b[0m\u001b[0;34m\u001b[0m\u001b[0m\n\u001b[0;32m---\u003e 24\u001b[0;31m     \u001b[0mdest\u001b[0m \u001b[0;34m\u003d\u001b[0m \u001b[0;34m(\u001b[0m\u001b[0mp\u001b[0m\u001b[0;34m.\u001b[0m\u001b[0mget_path\u001b[0m\u001b[0;34m(\u001b[0m\u001b[0;34m)\u001b[0m\u001b[0;34m/\u001b[0m\u001b[0mo\u001b[0m\u001b[0;34m)\u001b[0m\u001b[0;34m\u001b[0m\u001b[0;34m\u001b[0m\u001b[0m\n\u001b[0m\u001b[1;32m     25\u001b[0m     \u001b[0mprint\u001b[0m\u001b[0;34m(\u001b[0m\u001b[0mdest\u001b[0m\u001b[0;34m)\u001b[0m\u001b[0;34m\u001b[0m\u001b[0;34m\u001b[0m\u001b[0m\n\u001b[1;32m     26\u001b[0m     \u001b[0mdest\u001b[0m\u001b[0;34m.\u001b[0m\u001b[0mmkdir\u001b[0m\u001b[0;34m(\u001b[0m\u001b[0mexist_ok\u001b[0m\u001b[0;34m\u003d\u001b[0m\u001b[0;32mTrue\u001b[0m\u001b[0;34m,\u001b[0m \u001b[0mparents\u001b[0m\u001b[0;34m\u003d\u001b[0m\u001b[0;32mTrue\u001b[0m\u001b[0;34m)\u001b[0m\u001b[0;34m\u001b[0m\u001b[0;34m\u001b[0m\u001b[0m\n",
            "\u001b[0;31mTypeError\u001b[0m: unsupported operand type(s) for /: \u0027str\u0027 and \u0027str\u0027"
          ]
        }
      ]
    },
    {
      "execution_count": 0,
      "cell_type": "code",
      "metadata": {},
      "source": [
        ""
      ],
      "outputs": []
    }
  ]
}
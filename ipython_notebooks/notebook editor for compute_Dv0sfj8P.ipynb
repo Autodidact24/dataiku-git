{
  "metadata": {
    "kernelspec": {
      "name": "py-dku-venv-fastenv",
      "display_name": "Python (env fastenv)",
      "language": "python"
    },
    "creator": "admin",
    "createdOn": 1665232291945,
    "tags": [
      "deleted-recipe-editor"
    ],
    "customFields": {},
    "hide_input": false,
    "language_info": {
      "name": "python",
      "version": "3.9.6",
      "mimetype": "text/x-python",
      "codemirror_mode": {
        "name": "ipython",
        "version": 3
      },
      "pygments_lexer": "ipython3",
      "nbconvert_exporter": "python",
      "file_extension": ".py"
    },
    "modifiedBy": "admin"
  },
  "nbformat": 4,
  "nbformat_minor": 1,
  "cells": [
    {
      "execution_count": 0,
      "cell_type": "code",
      "metadata": {},
      "source": [
        "# -*- coding: utf-8 -*-\nimport dataiku\nimport pandas as pd, numpy as np\nfrom dataiku import pandasutils as pdu\nfrom fastdownload import download_url\nfrom fastcore.all import *\nfrom time import sleep\n\n# Read recipe inputs\nclean_air_or_not \u003d dataiku.Folder(\"TPQ6w2ke\")\nclean_air_or_not_info \u003d clean_air_or_not.get_info()\n\nfrom duckduckgo_search import ddg_images\nfrom fastcore.all import *\nfrom fastai.vision.all import *\n\ndef search_images(term, max_images\u003d200): return L(ddg_images(term, max_results\u003dmax_images)).itemgot(\u0027image\u0027)\n\nsearches \u003d \u0027clean air skyline\u0027, \u0027polluted air skyline\u0027\npath \u003d dataiku.Folder(\"Dv0sfj8P\"), dataiku.Folder(\"rZHKyy2U\")\n\nprint(dataiku.Folder(\"Dv0sfj8P\").get_path())\nfor o, p in zip(searches, path):\n    dest \u003d (Path(p.get_path())/o)\n    \n    dest.mkdir(exist_ok\u003dTrue, parents\u003dTrue)\n    download_images(dest, urls\u003dsearch_images(f\u0027{o} photo\u0027))\n    sleep(10)  # Pause between searches to avoid over-loading server\n    download_images(dest, urls\u003dsearch_images(f\u0027{o} aqi\u0027))\n    sleep(10)\n    download_images(dest, urls\u003dsearch_images(f\u0027{o} buildings\u0027))\n    sleep(10)\n    resize_images(path/o, max_size\u003d400, dest\u003dpath/o)\n\n# Write recipe outputs\nclean_air \u003d dataiku.Folder(\"Dv0sfj8P\")\nclean_air_info \u003d clean_air.get_info()\npolluted_air \u003d dataiku.Folder(\"rZHKyy2U\")\npolluted_air_info \u003d polluted_air.get_info()"
      ],
      "outputs": [
        {
          "output_type": "stream",
          "text": "/Users/shubham/Library/DataScienceStudio/dss_home/managed_folders/CLEANAIRORNOT/Dv0sfj8P\n/Users/shubham/Library/DataScienceStudio/dss_home/managed_folders/CLEANAIRORNOT/Dv0sfj8P/clean air skyline\n",
          "name": "stdout"
        }
      ]
    },
    {
      "execution_count": 0,
      "cell_type": "code",
      "metadata": {},
      "source": [
        ""
      ],
      "outputs": []
    }
  ]
}
{
  "metadata": {
    "kernelspec": {
      "name": "py-dku-venv-fastenv",
      "display_name": "Python (env fastenv)",
      "language": "python"
    },
    "associatedRecipe": "compute_clean_or_polluted",
    "dkuGit": {
      "lastInteraction": 0
    },
    "creationTag": {
      "versionNumber": 0,
      "lastModifiedBy": {
        "login": "admin"
      },
      "lastModifiedOn": 1665235459284
    },
    "creator": "admin",
    "createdOn": 1665235459284,
    "tags": [
      "recipe-editor"
    ],
    "customFields": {},
    "hide_input": false,
    "language_info": {
      "name": "python",
      "version": "3.9.6",
      "mimetype": "text/x-python",
      "codemirror_mode": {
        "name": "ipython",
        "version": 3
      },
      "pygments_lexer": "ipython3",
      "nbconvert_exporter": "python",
      "file_extension": ".py"
    },
    "modifiedBy": "admin"
  },
  "nbformat": 4,
  "nbformat_minor": 1,
  "cells": [
    {
      "execution_count": 3,
      "cell_type": "code",
      "metadata": {},
      "source": [
        "# -*- coding: utf-8 -*-\nimport dataiku\nimport pandas as pd, numpy as np\nfrom dataiku import pandasutils as pdu\n\nfrom duckduckgo_search import ddg_images\nfrom fastcore.all import *\nfrom fastdownload import download_url\nfrom fastai.vision.all import *\n\nfrom time import sleep\nfrom os import path\n\n\ndef search_images(term, max_images\u003d200):\n    return L(ddg_images(term, max_results\u003dmax_images)).itemgot(\u0027image\u0027)\n\n\n# Compute recipe outputs\n# TODO: Write here your actual code that computes the outputs\n# NB: DSS supports several kinds of APIs for reading and writing data. Please see doc.\n\nsearches \u003d \u0027clean air skyline\u0027,\u0027polluted air skyline\u0027\n\npaths \u003d dataiku.Folder(\u0027clean_air\u0027).get_path(), dataiku.Folder(\u0027polluted_air\u0027).get_path()\nprint(paths)\n\nfor o,path in zip(searches, paths):\n    dest \u003d os.path.join(path/o)\n    dest.mkdir(exist_ok\u003dTrue, parents\u003dTrue)\n    download_images(dest, urls\u003dsearch_images(f\u0027{o} photo\u0027, max_images\u003d1))\n    #sleep(10)  # Pause between searches to avoid over-loading server\n    #download_images(dest, urls\u003dsearch_images(f\u0027{o} aqi\u0027))\n    #sleep(10)\n    #download_images(dest, urls\u003dsearch_images(f\u0027{o} buildings\u0027))\n    #sleep(10)\n    resize_images(path/o, max_size\u003d400, dest\u003dpath/o)\n\n#clean_or_polluted_df \u003d ... # Compute a Pandas dataframe to write into clean_or_polluted\n\n\n# Write recipe outputs\nclean_or_polluted \u003d dataiku.Dataset(\"clean_or_polluted\")\nclean_or_polluted.write_with_schema(clean_or_polluted_df)"
      ],
      "outputs": [
        {
          "output_type": "stream",
          "text": "(\u0027/Users/shubham/Library/DataScienceStudio/dss_home/managed_folders/CLEANAIRORNOT/ep3MDqmT\u0027, \u0027/Users/shubham/Library/DataScienceStudio/dss_home/managed_folders/CLEANAIRORNOT/EP5fW8G4\u0027)\n",
          "name": "stdout"
        },
        {
          "output_type": "error",
          "ename": "AttributeError",
          "evalue": "\u0027str\u0027 object has no attribute \u0027mkdir\u0027",
          "traceback": [
            "\u001b[0;31m---------------------------------------------------------------------------\u001b[0m",
            "\u001b[0;31mAttributeError\u001b[0m                            Traceback (most recent call last)",
            "\u001b[0;32m\u003cipython-input-3-280c6f4ec863\u003e\u001b[0m in \u001b[0;36m\u003ccell line: 28\u003e\u001b[0;34m()\u001b[0m\n\u001b[1;32m     28\u001b[0m \u001b[0;32mfor\u001b[0m \u001b[0mo\u001b[0m\u001b[0;34m,\u001b[0m\u001b[0mpath\u001b[0m \u001b[0;32min\u001b[0m \u001b[0mzip\u001b[0m\u001b[0;34m(\u001b[0m\u001b[0msearches\u001b[0m\u001b[0;34m,\u001b[0m \u001b[0mpaths\u001b[0m\u001b[0;34m)\u001b[0m\u001b[0;34m:\u001b[0m\u001b[0;34m\u001b[0m\u001b[0;34m\u001b[0m\u001b[0m\n\u001b[1;32m     29\u001b[0m     \u001b[0mdest\u001b[0m \u001b[0;34m\u003d\u001b[0m \u001b[0mos\u001b[0m\u001b[0;34m.\u001b[0m\u001b[0mpath\u001b[0m\u001b[0;34m.\u001b[0m\u001b[0mjoin\u001b[0m\u001b[0;34m(\u001b[0m\u001b[0mpath\u001b[0m\u001b[0;34m,\u001b[0m \u001b[0mo\u001b[0m\u001b[0;34m)\u001b[0m\u001b[0;34m\u001b[0m\u001b[0;34m\u001b[0m\u001b[0m\n\u001b[0;32m---\u003e 30\u001b[0;31m     \u001b[0mdest\u001b[0m\u001b[0;34m.\u001b[0m\u001b[0mmkdir\u001b[0m\u001b[0;34m(\u001b[0m\u001b[0mexist_ok\u001b[0m\u001b[0;34m\u003d\u001b[0m\u001b[0;32mTrue\u001b[0m\u001b[0;34m,\u001b[0m \u001b[0mparents\u001b[0m\u001b[0;34m\u003d\u001b[0m\u001b[0;32mTrue\u001b[0m\u001b[0;34m)\u001b[0m\u001b[0;34m\u001b[0m\u001b[0;34m\u001b[0m\u001b[0m\n\u001b[0m\u001b[1;32m     31\u001b[0m     \u001b[0mdownload_images\u001b[0m\u001b[0;34m(\u001b[0m\u001b[0mdest\u001b[0m\u001b[0;34m,\u001b[0m \u001b[0murls\u001b[0m\u001b[0;34m\u003d\u001b[0m\u001b[0msearch_images\u001b[0m\u001b[0;34m(\u001b[0m\u001b[0;34mf\u0027{o} photo\u0027\u001b[0m\u001b[0;34m,\u001b[0m \u001b[0mmax_images\u001b[0m\u001b[0;34m\u003d\u001b[0m\u001b[0;36m1\u001b[0m\u001b[0;34m)\u001b[0m\u001b[0;34m)\u001b[0m\u001b[0;34m\u001b[0m\u001b[0;34m\u001b[0m\u001b[0m\n\u001b[1;32m     32\u001b[0m     \u001b[0;31m#sleep(10)  # Pause between searches to avoid over-loading server\u001b[0m\u001b[0;34m\u001b[0m\u001b[0;34m\u001b[0m\u001b[0;34m\u001b[0m\u001b[0m\n",
            "\u001b[0;31mAttributeError\u001b[0m: \u0027str\u0027 object has no attribute \u0027mkdir\u0027"
          ]
        }
      ]
    },
    {
      "execution_count": 0,
      "cell_type": "code",
      "metadata": {},
      "source": [
        ""
      ],
      "outputs": []
    }
  ]
}
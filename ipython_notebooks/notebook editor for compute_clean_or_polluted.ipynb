{
  "nbformat": 4,
  "nbformat_minor": 0,
  "metadata": {
    "kernelspec": {
      "display_name": "Python (env fastenv)",
      "language": "python",
      "name": "py-dku-venv-fastenv"
    },
    "associatedRecipe": "compute_clean_or_polluted",
    "dkuGit": {
      "lastInteraction": 0
    },
    "creationTag": {
      "versionNumber": 0,
      "lastModifiedBy": {
        "login": "admin"
      },
      "lastModifiedOn": 1665235459284
    },
    "creator": "admin",
    "createdOn": 1665235459284,
    "tags": [
      "recipe-editor"
    ],
    "customFields": {}
  },
  "cells": [
    {
      "cell_type": "code",
      "metadata": {},
      "outputs": [],
      "execution_count": 0,
      "source": [
        "# -*- coding: utf-8 -*-\n",
        "import dataiku\n",
        "import pandas as pd, numpy as np\n",
        "from dataiku import pandasutils as pdu\n",
        "\n",
        "from duckduckgo_search import ddg_images\n",
        "from fastcore.all import *\n",
        "from fastdownload import download_url\n",
        "from fastai.vision.all import *\n",
        "\n",
        "from time import sleep\n",
        "from os import path\n",
        "\n",
        "\n",
        "def search_images(term, max_images\u003d200):\n",
        "    return L(ddg_images(term, max_results\u003dmax_images)).itemgot(\u0027image\u0027)\n",
        "\n",
        "\n",
        "# Compute recipe outputs\n",
        "# TODO: Write here your actual code that computes the outputs\n",
        "# NB: DSS supports several kinds of APIs for reading and writing data. Please see doc.\n",
        "\n",
        "searches \u003d \u0027clean air skyline\u0027,\u0027polluted air skyline\u0027\n",
        "\n",
        "paths \u003d dataiku.Folder(\u0027clean_air\u0027).get_path(), dataiku.Folder(\u0027polluted_air\u0027).get_path()\n",
        "print(paths)\n",
        "\n",
        "for o in searches:\n",
        "    dest \u003d (path/o)\n",
        "    dest.mkdir(exist_ok\u003dTrue, parents\u003dTrue)\n",
        "    download_images(dest, urls\u003dsearch_images(f\u0027{o} photo\u0027, max_images\u003d1))\n",
        "    #sleep(10)  # Pause between searches to avoid over-loading server\n",
        "    #download_images(dest, urls\u003dsearch_images(f\u0027{o} aqi\u0027))\n",
        "    #sleep(10)\n",
        "    #download_images(dest, urls\u003dsearch_images(f\u0027{o} buildings\u0027))\n",
        "    #sleep(10)\n",
        "    resize_images(path/o, max_size\u003d400, dest\u003dpath/o)\n",
        "\n",
        "#clean_or_polluted_df \u003d ... # Compute a Pandas dataframe to write into clean_or_polluted\n",
        "\n",
        "\n",
        "# Write recipe outputs\n",
        "clean_or_polluted \u003d dataiku.Dataset(\"clean_or_polluted\")\n",
        "clean_or_polluted.write_with_schema(clean_or_polluted_df)"
      ]
    }
  ]
}
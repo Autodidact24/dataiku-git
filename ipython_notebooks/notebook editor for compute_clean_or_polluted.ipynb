{
  "metadata": {
    "kernelspec": {
      "name": "python3",
      "display_name": "Python 3",
      "language": "python"
    },
    "associatedRecipe": "compute_clean_or_polluted",
    "creator": "admin",
    "createdOn": 1665235459284,
    "tags": [
      "recipe-editor"
    ],
    "customFields": {},
    "hide_input": false,
    "language_info": {
      "name": "python",
      "version": "3.7.13",
      "mimetype": "text/x-python",
      "codemirror_mode": {
        "name": "ipython",
        "version": 3
      },
      "pygments_lexer": "ipython3",
      "nbconvert_exporter": "python",
      "file_extension": ".py"
    },
    "modifiedBy": "admin"
  },
  "nbformat": 4,
  "nbformat_minor": 1,
  "cells": [
    {
      "execution_count": 0,
      "cell_type": "code",
      "metadata": {},
      "source": [
        "# -*- coding: utf-8 -*-\nimport dataiku\nimport pandas as pd, numpy as np\nfrom dataiku import pandasutils as pdu\n\nfrom duckduckgo_search import ddg_images\nfrom fastcore.all import *\nfrom fastdownload import download_url\nfrom fastai.vision.all import *\n\nfrom time import sleep\n\n\ndef search_images(term, max_images\u003d200):\n    return L(ddg_images(term, max_results\u003dmax_images)).itemgot(\u0027image\u0027)\n\n\n# Compute recipe outputs\n# TODO: Write here your actual code that computes the outputs\n# NB: DSS supports several kinds of APIs for reading and writing data. Please see doc.\n\nsearches \u003d \u0027clean air skyline\u0027,\u0027polluted air skyline\u0027\npath \u003d Path(\u0027clean_or_polluted\u0027).get_path()\nprint(path)\n\n\"\"\"\nfor o, p in zip(searches, path):\n    dest \u003d (path/o)\n    dest.mkdir(exist_ok\u003dTrue, parents\u003dTrue)\n    download_images(dest, urls\u003dsearch_images(f\u0027{o} photo\u0027))\n    sleep(10)  # Pause between searches to avoid over-loading server\n    download_images(dest, urls\u003dsearch_images(f\u0027{o} aqi\u0027))\n    sleep(10)\n    download_images(dest, urls\u003dsearch_images(f\u0027{o} buildings\u0027))\n    sleep(10)\n    resize_images(path/o, max_size\u003d400, dest\u003dpath/o)\n\nclean_or_polluted_df \u003d ... # Compute a Pandas dataframe to write into clean_or_polluted\n\n\n# Write recipe outputs\nclean_or_polluted \u003d dataiku.Dataset(\"clean_or_polluted\")\nclean_or_polluted.write_with_schema(clean_or_polluted_df)\n\"\"\""
      ],
      "outputs": []
    }
  ]
}
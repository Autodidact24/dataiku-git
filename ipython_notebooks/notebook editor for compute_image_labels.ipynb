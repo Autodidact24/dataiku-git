{
  "nbformat": 4,
  "nbformat_minor": 0,
  "metadata": {
    "kernelspec": {
      "display_name": "Python 3",
      "language": "python",
      "name": "python3"
    },
    "associatedRecipe": "compute_image_labels",
    "dkuGit": {
      "lastInteraction": 0
    },
    "creationTag": {
      "versionNumber": 0,
      "lastModifiedBy": {
        "login": "admin"
      },
      "lastModifiedOn": 1665290130952
    },
    "creator": "admin",
    "createdOn": 1665290130952,
    "tags": [
      "recipe-editor"
    ],
    "customFields": {}
  },
  "cells": [
    {
      "cell_type": "code",
      "metadata": {},
      "outputs": [],
      "execution_count": 0,
      "source": [
        "# -*- coding: utf-8 -*-\n",
        "import dataiku\n",
        "import pandas as pd, numpy as np\n",
        "from dataiku import pandasutils as pdu\n",
        "\n",
        "# Read recipe inputs\n",
        "clean_air \u003d dataiku.Folder(\"ep3MDqmT\")\n",
        "polluted_air \u003d dataiku.Folder(\"EP5fW8G4\")\n",
        "\n",
        "\n",
        "# Compute recipe outputs\n",
        "# TODO: Write here your actual code that computes the outputs\n",
        "# NB: DSS supports several kinds of APIs for reading and writing data. Please see doc.\n",
        "\n",
        "\n",
        "\n",
        "image_labels_df \u003d pd.DataFrame(columns\u003d[\u0027image\u0027, \u0027label\u0027])\n",
        "for folder in (clean_air, polluted_air):\n",
        "    for i, image in enumerate(folder.list_paths_in_partition()):\n",
        "        image_labels_df.loc[i] \u003d [image[1:], folder.get_name()]\n",
        "\n",
        "\n",
        "# Write recipe outputs\n",
        "image_labels \u003d dataiku.Dataset(\"image_labels\")\n",
        "image_labels.write_with_schema(image_labels_df)"
      ]
    }
  ]
}
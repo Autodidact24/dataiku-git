{
  "nbformat": 4,
  "nbformat_minor": 0,
  "metadata": {
    "kernelspec": {
      "display_name": "Python 3",
      "language": "python",
      "name": "python3"
    },
    "associatedRecipe": "compute_labelled_images",
    "creator": "admin",
    "createdOn": 1665288127925,
    "tags": [
      "recipe-editor"
    ],
    "customFields": {}
  },
  "cells": [
    {
      "cell_type": "code",
      "metadata": {},
      "outputs": [],
      "execution_count": 0,
      "source": [
        "# -*- coding: utf-8 -*-\n",
        "import dataiku\n",
        "import pandas as pd, numpy as np\n",
        "from dataiku import pandasutils as pdu\n",
        "\n",
        "# Read recipe inputs\n",
        "clean_air \u003d dataiku.Folder(\"ep3MDqmT\")\n",
        "polluted_air \u003d dataiku.Folder(\"EP5fW8G4\")\n",
        "\n",
        "paths \u003d dataiku.Folder(\"ep3MDqmT\").get_path(), dataiku.Folder(\"EP5fW8G4\").get_path()\n",
        "# Compute recipe outputs\n",
        "# TODO: Write here your actual code that computes the outputs\n",
        "# NB: DSS supports several kinds of APIs for reading and writing data. Please see doc.\n",
        "\n",
        "\n",
        "LABEL_0 \u003d \"clean_air\"\n",
        "LABEL_1 \u003d \"polluted_air\"\n",
        "\n",
        "image_labels_df \u003d pd.DataFrame(columns\u003d[\u0027path\u0027, \u0027label\u0027])\n",
        "for i,j in enumerate(paths):\n",
        "    if LABEL_0 in j:\n",
        "        image_labels_df.loc[i] \u003d [j[1:], LABEL_0]\n",
        "    if LABEL_1 in j:\n",
        "        image_labels_df.loc[i] \u003d [j[1:], LABEL_1]\n",
        "\n",
        "\n",
        "\n",
        "# Write recipe outputs\n",
        "image_labels \u003d dataiku.Dataset(\"image_labels\")\n",
        "image_labels.write_with_schema(image_labels_df)"
      ]
    }
  ]
}
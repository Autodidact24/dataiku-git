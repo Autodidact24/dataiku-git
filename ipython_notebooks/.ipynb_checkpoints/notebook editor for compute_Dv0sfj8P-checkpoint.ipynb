{
  "nbformat": 4,
  "nbformat_minor": 0,
  "metadata": {
    "kernelspec": {
      "display_name": "Python (env fastenv)",
      "language": "python",
      "name": "py-dku-venv-fastenv"
    },
    "associatedRecipe": "compute_Dv0sfj8P",
    "creator": "admin",
    "createdOn": 1665232291945,
    "tags": [
      "recipe-editor"
    ],
    "customFields": {}
  },
  "cells": [
    {
      "cell_type": "code",
      "metadata": {},
      "outputs": [],
      "execution_count": 0,
      "source": [
        "# -*- coding: utf-8 -*-\n",
        "import dataiku\n",
        "import pandas as pd, numpy as np\n",
        "from dataiku import pandasutils as pdu\n",
        "from fastdownload import download_url\n",
        "from fastcore.all import *\n",
        "from time import sleep\n",
        "\n",
        "# Read recipe inputs\n",
        "clean_air_or_not \u003d dataiku.Folder(\"TPQ6w2ke\")\n",
        "clean_air_or_not_info \u003d clean_air_or_not.get_info()\n",
        "\n",
        "from duckduckgo_search import ddg_images\n",
        "from fastcore.all import *\n",
        "from fastai.vision.all import *\n",
        "\n",
        "def search_images(term, max_images\u003d200): return L(ddg_images(term, max_results\u003dmax_images)).itemgot(\u0027image\u0027)\n",
        "\n",
        "searches \u003d \u0027clean air skyline\u0027, \u0027polluted air skyline\u0027\n",
        "path \u003d dataiku.Folder(\"Dv0sfj8P\"), dataiku.Folder(\"rZHKyy2U\")\n",
        "\n",
        "\n",
        "for o, p in zip(searches, path):\n",
        "    dest \u003d (p/o)\n",
        "    dest.mkdir(exist_ok\u003dTrue, parents\u003dTrue)\n",
        "    download_images(dest, urls\u003dsearch_images(f\u0027{o} photo\u0027))\n",
        "    sleep(10)  # Pause between searches to avoid over-loading server\n",
        "    download_images(dest, urls\u003dsearch_images(f\u0027{o} aqi\u0027))\n",
        "    sleep(10)\n",
        "    download_images(dest, urls\u003dsearch_images(f\u0027{o} buildings\u0027))\n",
        "    sleep(10)\n",
        "    resize_images(path/o, max_size\u003d400, dest\u003dpath/o)\n",
        "\n",
        "# Write recipe outputs\n",
        "clean_air \u003d dataiku.Folder(\"Dv0sfj8P\")\n",
        "clean_air_info \u003d clean_air.get_info()\n",
        "polluted_air \u003d dataiku.Folder(\"rZHKyy2U\")\n",
        "polluted_air_info \u003d polluted_air.get_info()"
      ]
    }
  ]
}
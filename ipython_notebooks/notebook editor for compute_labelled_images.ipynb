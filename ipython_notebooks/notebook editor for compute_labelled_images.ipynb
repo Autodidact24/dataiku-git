{
  "metadata": {
    "kernelspec": {
      "name": "python3",
      "display_name": "Python 3",
      "language": "python"
    },
    "associatedRecipe": "compute_labelled_images",
    "creator": "admin",
    "createdOn": 1665288127925,
    "tags": [
      "recipe-editor"
    ],
    "customFields": {},
    "hide_input": false,
    "language_info": {
      "name": "python",
      "version": "3.7.13",
      "mimetype": "text/x-python",
      "codemirror_mode": {
        "name": "ipython",
        "version": 3
      },
      "pygments_lexer": "ipython3",
      "nbconvert_exporter": "python",
      "file_extension": ".py"
    },
    "modifiedBy": "admin"
  },
  "nbformat": 4,
  "nbformat_minor": 1,
  "cells": [
    {
      "execution_count": 1,
      "cell_type": "code",
      "metadata": {},
      "source": [
        "# -*- coding: utf-8 -*-\nimport dataiku\nimport pandas as pd, numpy as np\nfrom dataiku import pandasutils as pdu\n\n# Read recipe inputs\nclean_air \u003d dataiku.Folder(\"ep3MDqmT\")\npolluted_air \u003d dataiku.Folder(\"EP5fW8G4\")\n\npaths \u003d dataiku.Folder(\"ep3MDqmT\").get_path(), dataiku.Folder(\"EP5fW8G4\").get_path()\n# Compute recipe outputs\n# TODO: Write here your actual code that computes the outputs\n# NB: DSS supports several kinds of APIs for reading and writing data. Please see doc.\n\n\nLABEL_0 \u003d \"clean_air\"\nLABEL_1 \u003d \"polluted_air\"\n\nimage_labels_df \u003d pd.DataFrame(columns\u003d[\u0027path\u0027, \u0027label\u0027])\nfor i,j in enumerate(paths):\n    print(i, j)\n    if LABEL_0 in j:\n        image_labels_df.loc[i] \u003d [j[1:], LABEL_0]\n    if LABEL_1 in j:\n        image_labels_df.loc[i] \u003d [j[1:], LABEL_1]\n\n\n\n# Write recipe outputs\nimage_labels \u003d dataiku.Dataset(\"image_labels\")\nimage_labels.write_with_schema(image_labels_df)"
      ],
      "outputs": [
        {
          "output_type": "stream",
          "text": "0 /Users/shubham/Library/DataScienceStudio/dss_home/managed_folders/CLEANAIRORNOT/ep3MDqmT\n1 /Users/shubham/Library/DataScienceStudio/dss_home/managed_folders/CLEANAIRORNOT/EP5fW8G4\n0 rows successfully written (LES0nlMCSL)\n",
          "name": "stdout"
        }
      ]
    },
    {
      "execution_count": 0,
      "cell_type": "code",
      "metadata": {},
      "source": [
        ""
      ],
      "outputs": []
    }
  ]
}
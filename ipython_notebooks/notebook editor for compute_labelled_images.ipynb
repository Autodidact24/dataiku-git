{
  "metadata": {
    "kernelspec": {
      "display_name": "Python 3",
      "language": "python",
      "name": "python3"
    },
    "dkuGit": {
      "lastInteraction": 0
    },
    "creationTag": {
      "versionNumber": 0,
      "lastModifiedBy": {
        "login": "admin"
      },
      "lastModifiedOn": 1665288127925
    },
    "creator": "admin",
    "createdOn": 1665288127925,
    "tags": [
      "deleted-recipe-editor"
    ],
    "customFields": {}
  },
  "nbformat": 4,
  "nbformat_minor": 0,
  "cells": [
    {
      "execution_count": 0,
      "cell_type": "code",
      "metadata": {},
      "source": [
        "# -*- coding: utf-8 -*-\n",
        "import dataiku\n",
        "import pandas as pd, numpy as np\n",
        "from dataiku import pandasutils as pdu\n",
        "\n",
        "# Read recipe inputs\n",
        "clean_air \u003d dataiku.Folder(\"ep3MDqmT\")\n",
        "polluted_air \u003d dataiku.Folder(\"EP5fW8G4\")\n",
        "\n",
        "\n",
        "# Compute recipe outputs\n",
        "# TODO: Write here your actual code that computes the outputs\n",
        "# NB: DSS supports several kinds of APIs for reading and writing data. Please see doc.\n",
        "\n",
        "\n",
        "LABEL_0 \u003d \"clean_air\"\n",
        "LABEL_1 \u003d \"polluted_air\"\n",
        "\n",
        "image_labels_df \u003d pd.DataFrame(columns\u003d[\u0027path\u0027, \u0027label\u0027])\n",
        "for folder in (clean_air, polluted_air):\n",
        "    for i, image in enumerate(folder.list_paths_in_partition()):\n",
        "        image_labels_df.loc[i] \u003d [image[1:], folder.get_name()]\n",
        "\n",
        "\n",
        "# Write recipe outputs\n",
        "image_labels \u003d dataiku.Dataset(\"image_labels\")\n",
        "image_labels.write_with_schema(image_labels_df)"
      ],
      "outputs": []
    }
  ]
}